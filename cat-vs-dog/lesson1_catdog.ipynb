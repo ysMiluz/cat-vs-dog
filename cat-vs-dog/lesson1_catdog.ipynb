{
 "cells": [
  {
   "cell_type": "markdown",
   "metadata": {},
   "source": [
    "# 🐶🐱 Fastai Lesson 1 - Cat vs Dog Classifier"
   ]
  },
  {
   "cell_type": "code",
   "execution_count": null,
   "metadata": {},
   "outputs": [],
   "source": [
    "!pip install -Uqq fastbook
",
    "import fastbook
",
    "fastbook.setup_book()
",
    "
",
    "from fastai.vision.all import *
",
    "
",
    "path = untar_data(URLs.PETS)/'images'
",
    "def is_cat(x): return x[0].isupper()
",
    "
",
    "dls = ImageDataLoaders.from_name_func(
",
    "    path, get_image_files(path), label_func=is_cat, item_tfms=Resize(224))
",
    "
",
    "learn = vision_learner(dls, resnet34, metrics=accuracy)
",
    "learn.fine_tune(3)
",
    "
",
    "interp = ClassificationInterpretation.from_learner(learn)
",
    "interp.plot_top_losses(5, nrows=1)
",
    "
",
    "learn.show_heatmap(n=3, alpha=0.6)
",
    "
",
    "img = PILImage.create(get_image_files(path)[0])
",
    "learn.predict(img)"
   ]
  }
 ],
 "metadata": {
  "kernelspec": {
   "display_name": "Python 3",
   "language": "python",
   "name": "python3"
  },
  "language_info": {
   "name": "python",
   "version": "3.x"
  }
 },
 "nbformat": 4,
 "nbformat_minor": 2
}